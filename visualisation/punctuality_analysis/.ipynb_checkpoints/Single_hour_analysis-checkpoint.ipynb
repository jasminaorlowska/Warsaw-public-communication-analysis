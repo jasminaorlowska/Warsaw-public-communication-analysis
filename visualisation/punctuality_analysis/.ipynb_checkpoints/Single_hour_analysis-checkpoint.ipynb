{
 "cells": [
  {
   "cell_type": "code",
   "execution_count": 2,
   "id": "initial_id",
   "metadata": {
    "collapsed": true,
    "ExecuteTime": {
     "end_time": "2024-02-29T11:07:53.833810Z",
     "start_time": "2024-02-29T11:07:52.765983Z"
    }
   },
   "outputs": [],
   "source": [
    "import pandas as pd\n",
    "from visualisation.common import *"
   ]
  },
  {
   "cell_type": "code",
   "outputs": [
    {
     "name": "stdout",
     "output_type": "stream",
     "text": [
      "  zespol  slupek nazwa_zespolu  id_ulicy   szer_geo   dlug_geo\n",
      "0   1001       1      Kijowska      2201  52.248455  21.044827\n",
      "1   1001       2      Kijowska      2201  52.249078  21.044443\n",
      "2   1001       3      Kijowska      2201  52.248928  21.044169\n",
      "3   1001       4      Kijowska      2201  52.249969  21.041588\n",
      "4   1001       5      Kijowska      1203  52.250319  21.043861\n",
      "------------\n",
      "  busstopId  busstopNr                                            rozklad\n",
      "0      1001          2  {'138': [{'czas': '08:08:00', 'brygada': '012'...\n",
      "1      1001          8  {'120': [{'czas': '08:09:00', 'brygada': '4'},...\n",
      "2      1002          1  {'120': [{'czas': '08:07:00', 'brygada': '4'},...\n",
      "3      1001          7  {'120': [{'czas': '08:01:00', 'brygada': '2'},...\n",
      "4      1001          1  {'102': [{'czas': '08:08:00', 'brygada': '543'...\n"
     ]
    }
   ],
   "source": [
    "df1 = pd.read_json(\"../../data/processed/bus_stops_coordinates.json\")\n",
    "df2 = pd.read_json(\"../../data/processed/timetables.json\")\n",
    "print(df1.head())\n",
    "print(\"------------\")\n",
    "print(df2.head())"
   ],
   "metadata": {
    "collapsed": false,
    "ExecuteTime": {
     "end_time": "2024-02-29T11:10:13.795911Z",
     "start_time": "2024-02-29T11:10:13.679343Z"
    }
   },
   "id": "6bb1871c700aeddb",
   "execution_count": 5
  },
  {
   "cell_type": "code",
   "outputs": [
    {
     "name": "stderr",
     "output_type": "stream",
     "text": [
      "IOPub data rate exceeded.\n",
      "The Jupyter server will temporarily stop sending output\n",
      "to the client in order to avoid crashing it.\n",
      "To change this limit, set the config variable\n",
      "`--ServerApp.iopub_data_rate_limit`.\n",
      "\n",
      "Current values:\n",
      "ServerApp.iopub_data_rate_limit=1000000.0 (bytes/sec)\n",
      "ServerApp.rate_limit_window=3.0 (secs)\n",
      "\n"
     ]
    }
   ],
   "source": [
    "połączone_df = pd.merge(df1, df2, left_on=[\"zespol\", \"slupek\"], right_on=[\"busstopId\", \"busstopNr\"])\n",
    "# Wyświetlenie połączonej ramki danych\n",
    "print(połączone_df.to_dict(orient=\"records\"))\n"
   ],
   "metadata": {
    "collapsed": false,
    "ExecuteTime": {
     "end_time": "2024-02-29T11:11:12.098426Z",
     "start_time": "2024-02-29T11:11:11.941277Z"
    }
   },
   "id": "28c198edbe2b1ef6",
   "execution_count": 7
  },
  {
   "cell_type": "code",
   "outputs": [],
   "source": [],
   "metadata": {
    "collapsed": false
   },
   "id": "a24f3e0445fbbe0c"
  }
 ],
 "metadata": {
  "kernelspec": {
   "display_name": "Python 3",
   "language": "python",
   "name": "python3"
  },
  "language_info": {
   "codemirror_mode": {
    "name": "ipython",
    "version": 2
   },
   "file_extension": ".py",
   "mimetype": "text/x-python",
   "name": "python",
   "nbconvert_exporter": "python",
   "pygments_lexer": "ipython2",
   "version": "2.7.6"
  }
 },
 "nbformat": 4,
 "nbformat_minor": 5
}
