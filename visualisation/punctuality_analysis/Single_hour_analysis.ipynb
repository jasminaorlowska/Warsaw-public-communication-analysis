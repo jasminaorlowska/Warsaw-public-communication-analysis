{
 "cells": [
  {
   "cell_type": "code",
   "outputs": [],
   "source": [
    "import pandas as pd\n",
    "from src.analyze.analyze_punctuality import *\n",
    "from src.analyze.analyze_avg_speed import combine_bus_locations_within_hour, group_by_bus\n",
    "from visualisation.common import *"
   ],
   "metadata": {
    "collapsed": true,
    "jupyter": {
     "outputs_hidden": true
    }
   },
   "id": "initial_id",
   "execution_count": null
  },
  {
   "cell_type": "markdown",
   "source": [
    "To analyze buses punctuality, first we will take a look at a tables that we will be working with. "
   ],
   "metadata": {
    "collapsed": false
   },
   "id": "187665d198ad168"
  },
  {
   "cell_type": "code",
   "outputs": [],
   "source": [
    "df_bus_stop_info_bus_stops_coord = pd.read_json(bus_stops_coordinates)\n",
    "df_timetables = pd.read_json(timetables)\n",
    "\n",
    "print(df_bus_stop_info_bus_stops_coord.head())\n",
    "print(df_timetables.head())"
   ],
   "metadata": {
    "collapsed": false
   },
   "id": "6bb1871c700aeddb",
   "execution_count": null
  },
  {
   "cell_type": "code",
   "execution_count": null,
   "id": "28c198edbe2b1ef6",
   "metadata": {
    "collapsed": false
   },
   "outputs": [],
   "source": [
    "df_bus_stop_info = pd.merge(df_bus_stop_info_bus_stops_coord, df_timetables, left_on=[\"zespol\", \"slupek\"], right_on=[\"busstopId\", \"busstopNr\"])\n",
    "df_bus_stop_info = df_bus_stop_info.drop(columns=[\"id_ulicy\", \"zespol\", \"nazwa_zespolu\", \"busstopNr\"])\n",
    "print(df_bus_stop_info)"
   ]
  },
  {
   "cell_type": "markdown",
   "source": [
    "We will take a quick look at table's shape to see how it looks like."
   ],
   "metadata": {
    "collapsed": false
   },
   "id": "44d266fb0a2e549d"
  },
  {
   "cell_type": "code",
   "outputs": [],
   "source": [
    "print(df_bus_stop_info.shape)"
   ],
   "metadata": {
    "collapsed": false
   },
   "id": "a24f3e0445fbbe0c",
   "execution_count": null
  },
  {
   "cell_type": "markdown",
   "source": [
    "Let's again take a look at location's table."
   ],
   "metadata": {
    "collapsed": false
   },
   "id": "db25a749ce320e8e"
  },
  {
   "cell_type": "code",
   "outputs": [],
   "source": [
    "df_locations = combine_bus_locations_within_hour(buses_locations_at_8)\n",
    "df_locations = group_by_bus(df_locations)\n",
    "print(df_locations)"
   ],
   "metadata": {
    "collapsed": false
   },
   "id": "7d7fbc33f1c8a173",
   "execution_count": null
  },
  {
   "cell_type": "code",
   "outputs": [],
   "source": [
    "def analyze_punctuality_thread_executor(row, bus_stop_timetables, lat, lon):\n",
    "    with ThreadPoolExecutor() as executor:\n",
    "        result = executor.submit(analyze_punctuality_for_a_bus_stop, df_locations, row, bus_stop_timetables, lat, lon)\n",
    "        return result.result()\n",
    "\n",
    "df_bus_stop_info['delay'] = df_bus_stop_info.head(400).apply(lambda row: analyze_punctuality_thread_executor(row, 'rozklad', 'szer_geo', 'dlug_geo'), axis=1)\n",
    "\n",
    "df_bus_stop_info = df_bus_stop_info.dropna(subset=['delay'], axis=0)\n",
    "df_bus_stop_info = df_bus_stop_info[df_bus_stop_info['delay'] != -1]\n",
    "\n",
    "print(df_bus_stop_info.head(55)['delay'])\n"
   ],
   "metadata": {
    "collapsed": false
   },
   "id": "bc8e129b57e81696",
   "execution_count": null
  },
  {
   "cell_type": "markdown",
   "source": [
    "Now we will see the mean value of  (in minutes) of buses on x bus stops. "
   ],
   "metadata": {
    "collapsed": false
   },
   "id": "56ebe821cbfed19"
  },
  {
   "cell_type": "code",
   "outputs": [],
   "source": [
    "print(df_bus_stop_info['delay'].mean())"
   ],
   "metadata": {
    "collapsed": false
   },
   "id": "d88f0ad89f5180d4",
   "execution_count": null
  },
  {
   "cell_type": "code",
   "outputs": [],
   "source": [],
   "metadata": {
    "collapsed": false
   },
   "id": "87ab9e5706c537fd"
  }
 ],
 "metadata": {
  "kernelspec": {
   "display_name": "Python 3 (ipykernel)",
   "language": "python",
   "name": "python3"
  },
  "language_info": {
   "codemirror_mode": {
    "name": "ipython",
    "version": 3
   },
   "file_extension": ".py",
   "mimetype": "text/x-python",
   "name": "python",
   "nbconvert_exporter": "python",
   "pygments_lexer": "ipython3",
   "version": "3.12.0"
  }
 },
 "nbformat": 4,
 "nbformat_minor": 5
}
