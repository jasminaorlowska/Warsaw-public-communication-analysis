{
 "cells": [
  {
   "cell_type": "code",
   "outputs": [],
   "source": [
    "import pandas as pd\n",
    "from src.analyze.analyze_punctuality import *\n",
    "from src.analyze.analyze_avg_speed import combine_bus_locations_within_hour, group_by_bus\n",
    "from visualisation.common import *"
   ],
   "metadata": {
    "collapsed": true,
    "jupyter": {
     "outputs_hidden": true
    },
    "ExecuteTime": {
     "end_time": "2024-02-29T19:55:43.681198Z",
     "start_time": "2024-02-29T19:55:43.044963Z"
    }
   },
   "id": "initial_id",
   "execution_count": 1
  },
  {
   "cell_type": "markdown",
   "source": [
    "To analyze buses punctuality, first we will take a look at a tables that we will be working with. "
   ],
   "metadata": {
    "collapsed": false
   },
   "id": "187665d198ad168"
  },
  {
   "cell_type": "code",
   "outputs": [
    {
     "name": "stdout",
     "output_type": "stream",
     "text": [
      "  zespol  slupek nazwa_zespolu  id_ulicy   szer_geo   dlug_geo\n",
      "0   1001       1      Kijowska      2201  52.248455  21.044827\n",
      "1   1001       2      Kijowska      2201  52.249078  21.044443\n",
      "2   1001       3      Kijowska      2201  52.248928  21.044169\n",
      "3   1001       4      Kijowska      2201  52.249969  21.041588\n",
      "4   1001       5      Kijowska      1203  52.250319  21.043861\n",
      "  busstopId  busstopNr                                            rozklad\n",
      "0      1001          2  {'138': [{'czas': '08:08:00', 'brygada': '012'...\n",
      "1      1001          8  {'120': [{'czas': '08:09:00', 'brygada': '4'},...\n",
      "2      1002          1  {'120': [{'czas': '08:07:00', 'brygada': '4'},...\n",
      "3      1001          7  {'120': [{'czas': '08:01:00', 'brygada': '2'},...\n",
      "4      1001          1  {'102': [{'czas': '08:08:00', 'brygada': '543'...\n"
     ]
    }
   ],
   "source": [
    "df_bus_stop_info_bus_stops_coord = pd.read_json(bus_stops_coordinates)\n",
    "df_timetables = pd.read_json(timetables)\n",
    "\n",
    "print(df_bus_stop_info_bus_stops_coord.head())\n",
    "print(df_timetables.head())"
   ],
   "metadata": {
    "collapsed": false,
    "ExecuteTime": {
     "end_time": "2024-02-29T19:55:43.776852Z",
     "start_time": "2024-02-29T19:55:43.680416Z"
    }
   },
   "id": "6bb1871c700aeddb",
   "execution_count": 2
  },
  {
   "cell_type": "code",
   "execution_count": 3,
   "id": "28c198edbe2b1ef6",
   "metadata": {
    "collapsed": false,
    "ExecuteTime": {
     "end_time": "2024-02-29T19:55:43.818168Z",
     "start_time": "2024-02-29T19:55:43.776323Z"
    }
   },
   "outputs": [
    {
     "name": "stdout",
     "output_type": "stream",
     "text": [
      "      slupek   szer_geo   dlug_geo busstopId  \\\n",
      "0          1  52.248455  21.044827      1001   \n",
      "1          2  52.249078  21.044443      1001   \n",
      "2          7  52.250228  21.043690      1001   \n",
      "3          8  52.249944  21.044087      1001   \n",
      "4          1  52.251325  21.038457      1002   \n",
      "...      ...        ...        ...       ...   \n",
      "4704       1  52.252005  21.014461      7104   \n",
      "4705       2  52.253089  21.013974      7104   \n",
      "4706       2  52.244780  21.024285      7106   \n",
      "4707       1  52.216206  21.043533      7107   \n",
      "4708       0  52.196412  20.922925      R-11   \n",
      "\n",
      "                                                rozklad  \n",
      "0     {'102': [{'czas': '08:08:00', 'brygada': '543'...  \n",
      "1     {'138': [{'czas': '08:08:00', 'brygada': '012'...  \n",
      "2     {'120': [{'czas': '08:01:00', 'brygada': '2'},...  \n",
      "3     {'120': [{'czas': '08:09:00', 'brygada': '4'},...  \n",
      "4     {'120': [{'czas': '08:07:00', 'brygada': '4'},...  \n",
      "...                                                 ...  \n",
      "4704  {'185': [{'czas': '08:05:00', 'brygada': '013'...  \n",
      "4705  {'185': [{'czas': '08:06:00', 'brygada': '1'},...  \n",
      "4706  {'185': [{'czas': '08:03:00', 'brygada': '1'},...  \n",
      "4707  {'108': [{'czas': '08:03:00', 'brygada': '5'},...  \n",
      "4708  {'189': [{'czas': '12:54:00', 'brygada': '019'}]}  \n",
      "\n",
      "[4709 rows x 5 columns]\n"
     ]
    }
   ],
   "source": [
    "df_bus_stop_info = pd.merge(df_bus_stop_info_bus_stops_coord, df_timetables, left_on=[\"zespol\", \"slupek\"], right_on=[\"busstopId\", \"busstopNr\"])\n",
    "df_bus_stop_info = df_bus_stop_info.drop(columns=[\"id_ulicy\", \"zespol\", \"nazwa_zespolu\", \"busstopNr\"])\n",
    "print(df_bus_stop_info)"
   ]
  },
  {
   "cell_type": "markdown",
   "source": [
    "We will take a quick look at table's shape to see how it looks like."
   ],
   "metadata": {
    "collapsed": false
   },
   "id": "44d266fb0a2e549d"
  },
  {
   "cell_type": "code",
   "outputs": [
    {
     "name": "stdout",
     "output_type": "stream",
     "text": [
      "(4709, 5)\n"
     ]
    }
   ],
   "source": [
    "print(df_bus_stop_info.shape)"
   ],
   "metadata": {
    "collapsed": false,
    "ExecuteTime": {
     "end_time": "2024-02-29T19:55:43.818783Z",
     "start_time": "2024-02-29T19:55:43.798890Z"
    }
   },
   "id": "a24f3e0445fbbe0c",
   "execution_count": 4
  },
  {
   "cell_type": "markdown",
   "source": [
    "Let's again take a look at location's table."
   ],
   "metadata": {
    "collapsed": false
   },
   "id": "db25a749ce320e8e"
  },
  {
   "cell_type": "code",
   "outputs": [
    {
     "name": "stdout",
     "output_type": "stream",
     "text": [
      "      Lines  Brigade                                               Data\n",
      "0       102      541  [{'Time': '2024-02-26 08:27:17', 'Lon': 21.041...\n",
      "1       102      542  [{'Time': '2024-02-26 08:42:40', 'Lon': 21.042...\n",
      "2       102      543  [{'Time': '2024-02-26 07:59:37', 'Lon': 21.041...\n",
      "3       102      544  [{'Time': '2024-02-26 08:08:48', 'Lon': 21.042...\n",
      "4       102      545  [{'Time': '2024-02-26 08:54:55', 'Lon': 21.042...\n",
      "...     ...      ...                                                ...\n",
      "1456    817        1  [{'Time': '2024-02-26 08:00:34', 'Lon': 20.800...\n",
      "1457    817        2  [{'Time': '2024-02-26 07:59:33', 'Lon': 20.890...\n",
      "1458    817        3  [{'Time': '2024-02-26 07:59:36', 'Lon': 20.950...\n",
      "1459    850        1  [{'Time': '2024-02-26 08:22:08', 'Lon': 20.941...\n",
      "1460    850        3  [{'Time': '2024-02-26 07:59:35', 'Lon': 20.938...\n",
      "\n",
      "[1461 rows x 3 columns]\n"
     ]
    }
   ],
   "source": [
    "df_locations = combine_bus_locations_within_hour(buses_locations_at_8)\n",
    "df_locations = group_by_bus(df_locations)\n",
    "print(df_locations)"
   ],
   "metadata": {
    "collapsed": false,
    "ExecuteTime": {
     "end_time": "2024-02-29T19:55:44.881064Z",
     "start_time": "2024-02-29T19:55:43.803306Z"
    }
   },
   "id": "7d7fbc33f1c8a173",
   "execution_count": 5
  },
  {
   "cell_type": "code",
   "outputs": [
    {
     "name": "stdout",
     "output_type": "stream",
     "text": [
      "0     5.570833\n",
      "1     1.888889\n",
      "2     9.433333\n",
      "3     1.483333\n",
      "4     1.179167\n",
      "5    29.105556\n",
      "6    33.977778\n",
      "7     6.962281\n",
      "8    11.216667\n",
      "9    19.416667\n",
      "Name: delay, dtype: float64\n"
     ]
    }
   ],
   "source": [
    "def analyze_punctuality_thread_executor(row, bus_stop_timetables, lat, lon):\n",
    "    with ThreadPoolExecutor() as executor:\n",
    "        result = executor.submit(analyze_punctuality_for_a_bus_stop, df_locations, row, bus_stop_timetables, lat, lon)\n",
    "        return result.result()\n",
    "\n",
    "df_bus_stop_info['delay'] = df_bus_stop_info.head(400).apply(lambda row: analyze_punctuality_thread_executor(row, 'rozklad', 'szer_geo', 'dlug_geo'), axis=1)\n",
    "\n",
    "df_bus_stop_info = df_bus_stop_info.dropna(subset=['delay'], axis=0)\n",
    "df_bus_stop_info = df_bus_stop_info[df_bus_stop_info['delay'] != -1]\n",
    "\n",
    "print(df_bus_stop_info.head(55)['delay'])\n"
   ],
   "metadata": {
    "collapsed": false,
    "ExecuteTime": {
     "end_time": "2024-02-29T19:59:49.266405Z",
     "start_time": "2024-02-29T19:59:47.481717Z"
    }
   },
   "id": "bc8e129b57e81696",
   "execution_count": 15
  },
  {
   "cell_type": "markdown",
   "source": [
    "Now we will see the mean value of  (in minutes) of buses on x bus stops. "
   ],
   "metadata": {
    "collapsed": false
   },
   "id": "56ebe821cbfed19"
  },
  {
   "cell_type": "code",
   "outputs": [
    {
     "name": "stdout",
     "output_type": "stream",
     "text": [
      "12.023450292397662\n"
     ]
    }
   ],
   "source": [
    "print(df_bus_stop_info['delay'].mean())"
   ],
   "metadata": {
    "collapsed": false,
    "ExecuteTime": {
     "end_time": "2024-02-29T20:00:58.459876Z",
     "start_time": "2024-02-29T20:00:58.442221Z"
    }
   },
   "id": "d88f0ad89f5180d4",
   "execution_count": 16
  },
  {
   "cell_type": "code",
   "outputs": [],
   "source": [],
   "metadata": {
    "collapsed": false
   },
   "id": "87ab9e5706c537fd"
  }
 ],
 "metadata": {
  "kernelspec": {
   "display_name": "Python 3 (ipykernel)",
   "language": "python",
   "name": "python3"
  },
  "language_info": {
   "codemirror_mode": {
    "name": "ipython",
    "version": 3
   },
   "file_extension": ".py",
   "mimetype": "text/x-python",
   "name": "python",
   "nbconvert_exporter": "python",
   "pygments_lexer": "ipython3",
   "version": "3.12.0"
  }
 },
 "nbformat": 4,
 "nbformat_minor": 5
}
