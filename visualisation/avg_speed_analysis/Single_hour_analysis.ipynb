{
 "cells": [
  {
   "cell_type": "code",
   "outputs": [],
   "source": [
    "# from visualisation.common import buses_locations_at_8,results_from_8AM\n",
    "from visualisation.common import buses_locations_at_12, results_from_12AM\n",
    "from src.analyze.analyze_avg_speed import *"
   ],
   "metadata": {
    "collapsed": false,
    "ExecuteTime": {
     "end_time": "2024-02-29T17:39:38.831544Z",
     "start_time": "2024-02-29T17:39:38.192882Z"
    }
   },
   "id": "690f0b3b6fd94bdd",
   "execution_count": 1
  },
  {
   "cell_type": "markdown",
   "source": [
    "Let's first combine all fetched data locations from one hour to one Data Frame.\n"
   ],
   "metadata": {
    "collapsed": false
   },
   "id": "5e448859e3a6d594"
  },
  {
   "cell_type": "markdown",
   "source": [],
   "metadata": {
    "collapsed": false
   },
   "id": "8be742d03fc9f64b"
  },
  {
   "cell_type": "code",
   "outputs": [
    {
     "name": "stdout",
     "output_type": "stream",
     "text": [
      "       Lines        Lon        Lat  Brigade                 Time\n",
      "0        213  21.189938  52.183931        3  2024-02-26 12:18:45\n",
      "1        213  21.188766  52.149917        4  2024-02-26 12:18:50\n",
      "2        311  21.102734  52.222433      502  2024-02-26 12:18:35\n",
      "3        219  21.187683  52.183937        2  2024-02-26 12:18:52\n",
      "4        311  21.073458  52.254001      501  2024-02-26 12:18:49\n",
      "...      ...        ...        ...      ...                  ...\n",
      "42218    186  20.874588  52.278282        8  2024-02-26 12:17:38\n",
      "42219    210  20.866253  52.288696        4  2024-02-26 12:17:34\n",
      "42220    186  20.874737  52.278332       12  2024-02-26 12:17:51\n",
      "42221    114  20.923283  52.276421        3  2024-02-26 12:17:40\n",
      "42222    186  20.957375  52.228283       10  2024-02-26 12:17:46\n",
      "\n",
      "[42223 rows x 5 columns]\n"
     ]
    }
   ],
   "source": [
    "df = combine_bus_locations_within_hour(str(buses_locations_at_12)) #or buses_locations_at_8\n",
    "print(df)"
   ],
   "metadata": {
    "collapsed": false,
    "ExecuteTime": {
     "end_time": "2024-02-29T17:39:39.019746Z",
     "start_time": "2024-02-29T17:39:38.832884Z"
    }
   },
   "id": "98d96fcf05f369f6",
   "execution_count": 2
  },
  {
   "cell_type": "markdown",
   "source": [
    "Let's group the location data by bus. Every bus can be identified by a pair (\"Lines\", \"Brigade\")."
   ],
   "metadata": {
    "collapsed": false
   },
   "id": "d33ae5b9d9d6afce"
  },
  {
   "cell_type": "code",
   "outputs": [
    {
     "name": "stdout",
     "output_type": "stream",
     "text": [
      "   Lines  Brigade                                               Data\n",
      "0    102        9  [{'Time': '2024-02-26 12:35:13', 'Lon': 20.922...\n",
      "1    102      545  [{'Time': '2024-02-26 11:59:32', 'Lon': 21.085...\n",
      "2    102      546  [{'Time': '2024-02-26 11:59:32', 'Lon': 21.041...\n",
      "3    102      547  [{'Time': '2024-02-26 11:59:32', 'Lon': 21.044...\n",
      "4    102      548  [{'Time': '2024-02-26 11:59:31', 'Lon': 21.107...\n",
      "5    103        1  [{'Time': '2024-02-26 11:59:21', 'Lon': 20.934...\n",
      "6    103        2  [{'Time': '2024-02-26 11:59:32', 'Lon': 20.954...\n",
      "7    103        3  [{'Time': '2024-02-26 11:59:30', 'Lon': 20.965...\n",
      "8    103        4  [{'Time': '2024-02-26 11:59:30', 'Lon': 20.969...\n",
      "9    103        5  [{'Time': '2024-02-26 11:59:26', 'Lon': 20.968...\n"
     ]
    }
   ],
   "source": [
    "df = group_by_bus(df)\n",
    "print(df.head(10))"
   ],
   "metadata": {
    "collapsed": false,
    "ExecuteTime": {
     "end_time": "2024-02-29T17:39:39.635492Z",
     "start_time": "2024-02-29T17:39:39.020095Z"
    }
   },
   "id": "ce5747c1d1adc22d",
   "execution_count": 3
  },
  {
   "cell_type": "code",
   "outputs": [
    {
     "name": "stdout",
     "output_type": "stream",
     "text": [
      "Index(['Lines', 'Brigade', 'Data'], dtype='object')\n"
     ]
    }
   ],
   "source": [
    "print(df.columns)"
   ],
   "metadata": {
    "collapsed": false,
    "ExecuteTime": {
     "end_time": "2024-02-29T17:39:39.639087Z",
     "start_time": "2024-02-29T17:39:39.634705Z"
    }
   },
   "id": "803ae9685453b883",
   "execution_count": 4
  },
  {
   "cell_type": "markdown",
   "source": [
    "Now, let's count every bus trip duration."
   ],
   "metadata": {
    "collapsed": false
   },
   "id": "8cf588d37cb1053d"
  },
  {
   "cell_type": "code",
   "outputs": [
    {
     "name": "stdout",
     "output_type": "stream",
     "text": [
      "      Lines  Brigade  Trip_Duration\n",
      "0       102        9       0.391389\n",
      "1       102      545       0.986389\n",
      "2       102      546       0.985833\n",
      "3       102      547       0.986389\n",
      "4       102      548       0.986667\n",
      "...     ...      ...            ...\n",
      "1163    817        1       0.015833\n",
      "1164    817        2       0.986111\n",
      "1165    817        3       0.986667\n",
      "1166    850        1       0.340833\n",
      "1167    999        1       0.371389\n",
      "\n",
      "[1168 rows x 3 columns]\n"
     ]
    }
   ],
   "source": [
    "df = count_durations(df)\n",
    "print(df[[lines, brigade, trip_duration]])"
   ],
   "metadata": {
    "collapsed": false,
    "ExecuteTime": {
     "end_time": "2024-02-29T17:39:40.189118Z",
     "start_time": "2024-02-29T17:39:39.688404Z"
    }
   },
   "id": "c4d87ec630c0ac12",
   "execution_count": 5
  },
  {
   "cell_type": "markdown",
   "source": [
    "Trip duration is provided in hour format. \n",
    "Of course, it is < 1 because we fetched data from 8am till 9 am."
   ],
   "metadata": {
    "collapsed": false
   },
   "id": "a5798fed7cb557bc"
  },
  {
   "cell_type": "code",
   "outputs": [
    {
     "name": "stdout",
     "output_type": "stream",
     "text": [
      "      Lines  Brigade  Average_Speed\n",
      "0       102        9       1.518529\n",
      "1       102      545       7.318236\n",
      "2       102      546      10.642502\n",
      "3       102      547       7.111039\n",
      "4       102      548      10.107410\n",
      "...     ...      ...            ...\n",
      "1163    817        1       0.220553\n",
      "1164    817        2       0.184347\n",
      "1165    817        3       6.240049\n",
      "1166    850        1      13.596368\n",
      "1167    999        1       0.088928\n",
      "\n",
      "[1162 rows x 3 columns]\n"
     ]
    }
   ],
   "source": [
    "df = count_avg_speed(df)\n",
    "print(df[[lines, brigade, avg_speed]])"
   ],
   "metadata": {
    "collapsed": false,
    "ExecuteTime": {
     "end_time": "2024-02-29T17:39:42.992818Z",
     "start_time": "2024-02-29T17:39:40.193883Z"
    }
   },
   "id": "6039e98b2c8554ed",
   "execution_count": 6
  },
  {
   "cell_type": "markdown",
   "source": [
    "The data is not yet processed, so now we will clean it. \n",
    "\n"
   ],
   "metadata": {
    "collapsed": false
   },
   "id": "efdb5b04e0039bc3"
  },
  {
   "cell_type": "code",
   "outputs": [
    {
     "data": {
      "text/plain": "      Lines  Brigade                                               Data  \\\n123     119        5  [{'Time': '2024-02-26 11:59:27', 'Lon': 21.000...   \n218     134        1  [{'Time': '2024-02-26 12:55:42', 'Lon': 21.030...   \n233     136        5  [{'Time': '2024-02-26 11:59:17', 'Lon': 20.920...   \n330     151        1  [{'Time': '2024-02-26 11:59:28', 'Lon': 21.053...   \n473     174        6  [{'Time': '2024-02-26 11:59:14', 'Lon': 20.995...   \n494     177        3  [{'Time': '2024-02-26 11:59:30', 'Lon': 20.897...   \n574     186        3  [{'Time': '2024-02-26 12:04:36', 'Lon': 20.996...   \n587     186      495  [{'Time': '2024-02-26 12:51:12', 'Lon': 20.997...   \n684     200        2  [{'Time': '2024-02-26 11:59:32', 'Lon': 21.048...   \n890     500        7  [{'Time': '2024-02-26 11:59:16', 'Lon': 21.046...   \n944     509        9  [{'Time': '2024-02-26 11:59:31', 'Lon': 21.048...   \n981     518        2  [{'Time': '2024-02-26 12:21:01', 'Lon': 20.997...   \n1024    523        5  [{'Time': '2024-02-26 11:59:31', 'Lon': 21.105...   \n1062    705        1  [{'Time': '2024-02-26 12:54:35', 'Lon': 20.995...   \n1118    723      474  [{'Time': '2024-02-26 12:57:29', 'Lon': 20.993...   \n1132    730       52  [{'Time': '2024-02-26 11:59:28', 'Lon': 21.292...   \n1148    738        3  [{'Time': '2024-02-26 12:57:32', 'Lon': 21.080...   \n\n      Trip_Duration  Total_Distance  Average_Speed  \n123        0.986667       62.724650      63.572280  \n218        0.050278        2.090957      41.588091  \n233        0.990556       45.249221      45.680649  \n330        0.986389       67.325103      68.254117  \n473        0.990278       55.003625      55.543633  \n494        0.986389       49.699765      50.385568  \n574        0.901667       56.928552      63.137026  \n587        0.116944        4.039392      34.541117  \n684        0.321667       10.173438      31.627270  \n890        0.990000       32.923838      33.256402  \n944        0.935278       59.720054      63.852745  \n981        0.627500       18.835789      30.017193  \n1024       0.986667       36.127107      36.615312  \n1062       0.068611        3.006190      43.814910  \n1118       0.019444        0.630791      32.440664  \n1132       0.986944       44.049992      44.632697  \n1148       0.019722        0.596098      30.224690  ",
      "text/html": "<div>\n<style scoped>\n    .dataframe tbody tr th:only-of-type {\n        vertical-align: middle;\n    }\n\n    .dataframe tbody tr th {\n        vertical-align: top;\n    }\n\n    .dataframe thead th {\n        text-align: right;\n    }\n</style>\n<table border=\"1\" class=\"dataframe\">\n  <thead>\n    <tr style=\"text-align: right;\">\n      <th></th>\n      <th>Lines</th>\n      <th>Brigade</th>\n      <th>Data</th>\n      <th>Trip_Duration</th>\n      <th>Total_Distance</th>\n      <th>Average_Speed</th>\n    </tr>\n  </thead>\n  <tbody>\n    <tr>\n      <th>123</th>\n      <td>119</td>\n      <td>5</td>\n      <td>[{'Time': '2024-02-26 11:59:27', 'Lon': 21.000...</td>\n      <td>0.986667</td>\n      <td>62.724650</td>\n      <td>63.572280</td>\n    </tr>\n    <tr>\n      <th>218</th>\n      <td>134</td>\n      <td>1</td>\n      <td>[{'Time': '2024-02-26 12:55:42', 'Lon': 21.030...</td>\n      <td>0.050278</td>\n      <td>2.090957</td>\n      <td>41.588091</td>\n    </tr>\n    <tr>\n      <th>233</th>\n      <td>136</td>\n      <td>5</td>\n      <td>[{'Time': '2024-02-26 11:59:17', 'Lon': 20.920...</td>\n      <td>0.990556</td>\n      <td>45.249221</td>\n      <td>45.680649</td>\n    </tr>\n    <tr>\n      <th>330</th>\n      <td>151</td>\n      <td>1</td>\n      <td>[{'Time': '2024-02-26 11:59:28', 'Lon': 21.053...</td>\n      <td>0.986389</td>\n      <td>67.325103</td>\n      <td>68.254117</td>\n    </tr>\n    <tr>\n      <th>473</th>\n      <td>174</td>\n      <td>6</td>\n      <td>[{'Time': '2024-02-26 11:59:14', 'Lon': 20.995...</td>\n      <td>0.990278</td>\n      <td>55.003625</td>\n      <td>55.543633</td>\n    </tr>\n    <tr>\n      <th>494</th>\n      <td>177</td>\n      <td>3</td>\n      <td>[{'Time': '2024-02-26 11:59:30', 'Lon': 20.897...</td>\n      <td>0.986389</td>\n      <td>49.699765</td>\n      <td>50.385568</td>\n    </tr>\n    <tr>\n      <th>574</th>\n      <td>186</td>\n      <td>3</td>\n      <td>[{'Time': '2024-02-26 12:04:36', 'Lon': 20.996...</td>\n      <td>0.901667</td>\n      <td>56.928552</td>\n      <td>63.137026</td>\n    </tr>\n    <tr>\n      <th>587</th>\n      <td>186</td>\n      <td>495</td>\n      <td>[{'Time': '2024-02-26 12:51:12', 'Lon': 20.997...</td>\n      <td>0.116944</td>\n      <td>4.039392</td>\n      <td>34.541117</td>\n    </tr>\n    <tr>\n      <th>684</th>\n      <td>200</td>\n      <td>2</td>\n      <td>[{'Time': '2024-02-26 11:59:32', 'Lon': 21.048...</td>\n      <td>0.321667</td>\n      <td>10.173438</td>\n      <td>31.627270</td>\n    </tr>\n    <tr>\n      <th>890</th>\n      <td>500</td>\n      <td>7</td>\n      <td>[{'Time': '2024-02-26 11:59:16', 'Lon': 21.046...</td>\n      <td>0.990000</td>\n      <td>32.923838</td>\n      <td>33.256402</td>\n    </tr>\n    <tr>\n      <th>944</th>\n      <td>509</td>\n      <td>9</td>\n      <td>[{'Time': '2024-02-26 11:59:31', 'Lon': 21.048...</td>\n      <td>0.935278</td>\n      <td>59.720054</td>\n      <td>63.852745</td>\n    </tr>\n    <tr>\n      <th>981</th>\n      <td>518</td>\n      <td>2</td>\n      <td>[{'Time': '2024-02-26 12:21:01', 'Lon': 20.997...</td>\n      <td>0.627500</td>\n      <td>18.835789</td>\n      <td>30.017193</td>\n    </tr>\n    <tr>\n      <th>1024</th>\n      <td>523</td>\n      <td>5</td>\n      <td>[{'Time': '2024-02-26 11:59:31', 'Lon': 21.105...</td>\n      <td>0.986667</td>\n      <td>36.127107</td>\n      <td>36.615312</td>\n    </tr>\n    <tr>\n      <th>1062</th>\n      <td>705</td>\n      <td>1</td>\n      <td>[{'Time': '2024-02-26 12:54:35', 'Lon': 20.995...</td>\n      <td>0.068611</td>\n      <td>3.006190</td>\n      <td>43.814910</td>\n    </tr>\n    <tr>\n      <th>1118</th>\n      <td>723</td>\n      <td>474</td>\n      <td>[{'Time': '2024-02-26 12:57:29', 'Lon': 20.993...</td>\n      <td>0.019444</td>\n      <td>0.630791</td>\n      <td>32.440664</td>\n    </tr>\n    <tr>\n      <th>1132</th>\n      <td>730</td>\n      <td>52</td>\n      <td>[{'Time': '2024-02-26 11:59:28', 'Lon': 21.292...</td>\n      <td>0.986944</td>\n      <td>44.049992</td>\n      <td>44.632697</td>\n    </tr>\n    <tr>\n      <th>1148</th>\n      <td>738</td>\n      <td>3</td>\n      <td>[{'Time': '2024-02-26 12:57:32', 'Lon': 21.080...</td>\n      <td>0.019722</td>\n      <td>0.596098</td>\n      <td>30.224690</td>\n    </tr>\n  </tbody>\n</table>\n</div>"
     },
     "execution_count": 7,
     "metadata": {},
     "output_type": "execute_result"
    }
   ],
   "source": [
    "clean_df(df)"
   ],
   "metadata": {
    "collapsed": false,
    "ExecuteTime": {
     "end_time": "2024-02-29T17:39:43.077192Z",
     "start_time": "2024-02-29T17:39:42.993214Z"
    }
   },
   "id": "9c8506f03f88aa21",
   "execution_count": 7
  },
  {
   "cell_type": "markdown",
   "source": [
    "Let's count the mean of avg speed of buses at 12 am. "
   ],
   "metadata": {
    "collapsed": false
   },
   "id": "965a3932354dd6a8"
  },
  {
   "cell_type": "code",
   "outputs": [
    {
     "name": "stdout",
     "output_type": "stream",
     "text": [
      "45.24613912618406\n"
     ]
    }
   ],
   "source": [
    "print(df[avg_speed].mean())"
   ],
   "metadata": {
    "collapsed": false,
    "ExecuteTime": {
     "end_time": "2024-02-29T17:39:43.080161Z",
     "start_time": "2024-02-29T17:39:43.077045Z"
    }
   },
   "id": "bb1c548ffce6036a",
   "execution_count": 8
  },
  {
   "cell_type": "code",
   "outputs": [],
   "source": [
    "df.to_json(results_from_12AM, orient='columns') # or results_from_8am"
   ],
   "metadata": {
    "collapsed": false,
    "ExecuteTime": {
     "end_time": "2024-02-29T17:39:43.085467Z",
     "start_time": "2024-02-29T17:39:43.082974Z"
    }
   },
   "id": "caf38937ccafe4e6",
   "execution_count": 9
  }
 ],
 "metadata": {
  "kernelspec": {
   "display_name": "Python 3",
   "language": "python",
   "name": "python3"
  },
  "language_info": {
   "codemirror_mode": {
    "name": "ipython",
    "version": 2
   },
   "file_extension": ".py",
   "mimetype": "text/x-python",
   "name": "python",
   "nbconvert_exporter": "python",
   "pygments_lexer": "ipython2",
   "version": "2.7.6"
  }
 },
 "nbformat": 4,
 "nbformat_minor": 5
}
